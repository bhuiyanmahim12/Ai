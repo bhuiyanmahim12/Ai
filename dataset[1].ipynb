{
 "cells": [
  {
   "cell_type": "code",
   "execution_count": 2,
   "id": "2924649d",
   "metadata": {},
   "outputs": [],
   "source": [
    "import pandas as pd"
   ]
  },
  {
   "cell_type": "code",
   "execution_count": null,
   "id": "a90bd78f",
   "metadata": {},
   "outputs": [
    {
     "name": "stdout",
     "output_type": "stream",
     "text": [
      "Mean: 20.9\n",
      "Median: 21.0\n",
      "Mode: 22\n",
      "Standard Deviation: 7.766738197095497\n",
      "Variance: 60.32222222222222\n"
     ]
    }
   ],
   "source": [
    "import pandas as pd\n",
    "data= {'Name': ['Mitu','Shahadat','Masud','Sourov','Mahi','Sumaiya'],\n",
    "      'Age': [23,23,24,22,22,20],\n",
    "      'Gender': ['F','M','M','M','F','F'],\n",
    "      'Marks': [80,83,'NaN',90,92,'NaN']}\n",
    "df =pd.DataFrame(data)\n",
    "df\n",
    "df.shape\n",
    "df.info\n",
    "df.columns\n",
    "\n",
    "import statistics as st\n",
    "# কলামের নাম 'Values' ব্যবহার করতে হবে\n",
    "DF = pd.read_csv('data.csv')\n",
    "DF\n",
    "values = DF[\"Values\"].tolist()\n",
    "values\n",
    "print(\"Mean:\", st.mean(values))\n",
    "print(\"Median:\", st.median(values))\n",
    "print(\"Mode:\", st.mode(values))\n",
    "print(\"Standard Deviation:\", st.stdev(values))\n",
    "\n",
    "print(\"Variance:\", st.variance(values))"
   ]
  },
  {
   "cell_type": "code",
   "execution_count": 3,
   "id": "cc061294",
   "metadata": {},
   "outputs": [],
   "source": [
    "\n",
    "data= {'Name': ['Mitu','Shahadat','Masud','Sourov','Mahi','Sumaiya'],\n",
    "      'Age': [23,23,24,22,22,20],\n",
    "      'Gender': ['F','M','M','M','F','F'],\n",
    "      'Marks': [80,83,'NaN',90,92,'NaN']}"
   ]
  },
  {
   "cell_type": "code",
   "execution_count": 4,
   "id": "e36f3ad2",
   "metadata": {},
   "outputs": [],
   "source": [
    "\n",
    "df =pd.DataFrame(data)\n"
   ]
  },
  {
   "cell_type": "code",
   "execution_count": 28,
   "id": "1c316651",
   "metadata": {},
   "outputs": [
    {
     "data": {
      "text/html": [
       "<div>\n",
       "<style scoped>\n",
       "    .dataframe tbody tr th:only-of-type {\n",
       "        vertical-align: middle;\n",
       "    }\n",
       "\n",
       "    .dataframe tbody tr th {\n",
       "        vertical-align: top;\n",
       "    }\n",
       "\n",
       "    .dataframe thead th {\n",
       "        text-align: right;\n",
       "    }\n",
       "</style>\n",
       "<table border=\"1\" class=\"dataframe\">\n",
       "  <thead>\n",
       "    <tr style=\"text-align: right;\">\n",
       "      <th></th>\n",
       "      <th>Name</th>\n",
       "      <th>Age</th>\n",
       "      <th>Gender</th>\n",
       "      <th>Marks</th>\n",
       "    </tr>\n",
       "  </thead>\n",
       "  <tbody>\n",
       "    <tr>\n",
       "      <th>0</th>\n",
       "      <td>Mitu</td>\n",
       "      <td>23</td>\n",
       "      <td>F</td>\n",
       "      <td>80</td>\n",
       "    </tr>\n",
       "    <tr>\n",
       "      <th>1</th>\n",
       "      <td>Shahadat</td>\n",
       "      <td>23</td>\n",
       "      <td>M</td>\n",
       "      <td>83</td>\n",
       "    </tr>\n",
       "    <tr>\n",
       "      <th>2</th>\n",
       "      <td>Masud</td>\n",
       "      <td>24</td>\n",
       "      <td>M</td>\n",
       "      <td>NaN</td>\n",
       "    </tr>\n",
       "    <tr>\n",
       "      <th>3</th>\n",
       "      <td>Sourov</td>\n",
       "      <td>22</td>\n",
       "      <td>M</td>\n",
       "      <td>90</td>\n",
       "    </tr>\n",
       "    <tr>\n",
       "      <th>4</th>\n",
       "      <td>Mahi</td>\n",
       "      <td>22</td>\n",
       "      <td>F</td>\n",
       "      <td>92</td>\n",
       "    </tr>\n",
       "    <tr>\n",
       "      <th>5</th>\n",
       "      <td>Sumaiya</td>\n",
       "      <td>20</td>\n",
       "      <td>F</td>\n",
       "      <td>NaN</td>\n",
       "    </tr>\n",
       "  </tbody>\n",
       "</table>\n",
       "</div>"
      ],
      "text/plain": [
       "       Name  Age Gender Marks\n",
       "0      Mitu   23      F    80\n",
       "1  Shahadat   23      M    83\n",
       "2     Masud   24      M   NaN\n",
       "3    Sourov   22      M    90\n",
       "4      Mahi   22      F    92\n",
       "5   Sumaiya   20      F   NaN"
      ]
     },
     "execution_count": 28,
     "metadata": {},
     "output_type": "execute_result"
    }
   ],
   "source": [
    "df"
   ]
  },
  {
   "cell_type": "code",
   "execution_count": 8,
   "id": "bd1adf00",
   "metadata": {},
   "outputs": [
    {
     "data": {
      "text/plain": [
       "(6, 4)"
      ]
     },
     "execution_count": 8,
     "metadata": {},
     "output_type": "execute_result"
    }
   ],
   "source": [
    "df.shape\n"
   ]
  },
  {
   "cell_type": "code",
   "execution_count": 9,
   "id": "93f87b67",
   "metadata": {},
   "outputs": [
    {
     "data": {
      "text/plain": [
       "<bound method DataFrame.info of        Name  Age Gender Marks\n",
       "0      Mitu   23      F    80\n",
       "1  Shahadat   23      M    83\n",
       "2     Masud   24      M   NaN\n",
       "3    Sourov   22      M    90\n",
       "4      Mahi   22      F    92\n",
       "5   Sumaiya   20      F   NaN>"
      ]
     },
     "execution_count": 9,
     "metadata": {},
     "output_type": "execute_result"
    }
   ],
   "source": [
    "df.info"
   ]
  },
  {
   "cell_type": "code",
   "execution_count": 10,
   "id": "b228b589",
   "metadata": {},
   "outputs": [
    {
     "data": {
      "text/plain": [
       "Index(['Name', 'Age', 'Gender', 'Marks'], dtype='object')"
      ]
     },
     "execution_count": 10,
     "metadata": {},
     "output_type": "execute_result"
    }
   ],
   "source": [
    "df.columns"
   ]
  },
  {
   "cell_type": "code",
   "execution_count": null,
   "id": "7db7984e",
   "metadata": {},
   "outputs": [
    {
     "data": {
      "text/plain": [
       "<bound method NDFrame.describe of        Name  Age Gender Marks\n",
       "0      Mitu   23      F    80\n",
       "1  Shahadat   23      M    83\n",
       "2     Masud   24      M   NaN\n",
       "3    Sourov   22      M    90\n",
       "4      Mahi   22      F    92\n",
       "5   Sumaiya   20      F   NaN>"
      ]
     },
     "execution_count": 11,
     "metadata": {},
     "output_type": "execute_result"
    }
   ],
   "source": []
  },
  {
   "cell_type": "code",
   "execution_count": 16,
   "id": "84fd6bd6",
   "metadata": {},
   "outputs": [],
   "source": [
    "df = pd.read_csv('data.csv')"
   ]
  },
  {
   "cell_type": "code",
   "execution_count": 29,
   "id": "0a33a53f",
   "metadata": {},
   "outputs": [
    {
     "data": {
      "text/html": [
       "<div>\n",
       "<style scoped>\n",
       "    .dataframe tbody tr th:only-of-type {\n",
       "        vertical-align: middle;\n",
       "    }\n",
       "\n",
       "    .dataframe tbody tr th {\n",
       "        vertical-align: top;\n",
       "    }\n",
       "\n",
       "    .dataframe thead th {\n",
       "        text-align: right;\n",
       "    }\n",
       "</style>\n",
       "<table border=\"1\" class=\"dataframe\">\n",
       "  <thead>\n",
       "    <tr style=\"text-align: right;\">\n",
       "      <th></th>\n",
       "      <th>Name</th>\n",
       "      <th>Age</th>\n",
       "      <th>Gender</th>\n",
       "      <th>Marks</th>\n",
       "    </tr>\n",
       "  </thead>\n",
       "  <tbody>\n",
       "    <tr>\n",
       "      <th>0</th>\n",
       "      <td>Mitu</td>\n",
       "      <td>23</td>\n",
       "      <td>F</td>\n",
       "      <td>80</td>\n",
       "    </tr>\n",
       "    <tr>\n",
       "      <th>1</th>\n",
       "      <td>Shahadat</td>\n",
       "      <td>23</td>\n",
       "      <td>M</td>\n",
       "      <td>83</td>\n",
       "    </tr>\n",
       "    <tr>\n",
       "      <th>2</th>\n",
       "      <td>Masud</td>\n",
       "      <td>24</td>\n",
       "      <td>M</td>\n",
       "      <td>NaN</td>\n",
       "    </tr>\n",
       "    <tr>\n",
       "      <th>3</th>\n",
       "      <td>Sourov</td>\n",
       "      <td>22</td>\n",
       "      <td>M</td>\n",
       "      <td>90</td>\n",
       "    </tr>\n",
       "    <tr>\n",
       "      <th>4</th>\n",
       "      <td>Mahi</td>\n",
       "      <td>22</td>\n",
       "      <td>F</td>\n",
       "      <td>92</td>\n",
       "    </tr>\n",
       "    <tr>\n",
       "      <th>5</th>\n",
       "      <td>Sumaiya</td>\n",
       "      <td>20</td>\n",
       "      <td>F</td>\n",
       "      <td>NaN</td>\n",
       "    </tr>\n",
       "  </tbody>\n",
       "</table>\n",
       "</div>"
      ],
      "text/plain": [
       "       Name  Age Gender Marks\n",
       "0      Mitu   23      F    80\n",
       "1  Shahadat   23      M    83\n",
       "2     Masud   24      M   NaN\n",
       "3    Sourov   22      M    90\n",
       "4      Mahi   22      F    92\n",
       "5   Sumaiya   20      F   NaN"
      ]
     },
     "execution_count": 29,
     "metadata": {},
     "output_type": "execute_result"
    }
   ],
   "source": [
    "df"
   ]
  },
  {
   "cell_type": "code",
   "execution_count": null,
   "id": "ede5d640",
   "metadata": {},
   "outputs": [],
   "source": [
    "\n",
    "import statistics as st"
   ]
  },
  {
   "cell_type": "code",
   "execution_count": null,
   "id": "1e4b7699",
   "metadata": {},
   "outputs": [],
   "source": [
    "# কলামের নাম 'Values' ব্যবহার করতে হবে\n",
    "values = df[\"Values\"].tolist()"
   ]
  },
  {
   "cell_type": "code",
   "execution_count": 20,
   "id": "671e35b9",
   "metadata": {},
   "outputs": [
    {
     "data": {
      "text/plain": [
       "[10, 12, 15, 18, 20, 22, 22, 25, 30, 35]"
      ]
     },
     "execution_count": 20,
     "metadata": {},
     "output_type": "execute_result"
    }
   ],
   "source": [
    "values"
   ]
  },
  {
   "cell_type": "code",
   "execution_count": 21,
   "id": "138d227a",
   "metadata": {},
   "outputs": [
    {
     "name": "stdout",
     "output_type": "stream",
     "text": [
      "Mean: 20.9\n",
      "Median: 21.0\n",
      "Mode: 22\n",
      "Standard Deviation: 7.766738197095497\n",
      "Variance: 60.32222222222222\n"
     ]
    }
   ],
   "source": [
    "\n",
    "print(\"Mean:\", st.mean(values))\n",
    "print(\"Median:\", st.median(values))\n",
    "print(\"Mode:\", st.mode(values))\n",
    "print(\"Standard Deviation:\", st.stdev(values))\n",
    "print(\"Variance:\", st.variance(values))\n",
    "\n"
   ]
  }
 ],
 "metadata": {
  "kernelspec": {
   "display_name": "Python 3",
   "language": "python",
   "name": "python3"
  },
  "language_info": {
   "codemirror_mode": {
    "name": "ipython",
    "version": 3
   },
   "file_extension": ".py",
   "mimetype": "text/x-python",
   "name": "python",
   "nbconvert_exporter": "python",
   "pygments_lexer": "ipython3",
   "version": "3.13.0"
  }
 },
 "nbformat": 4,
 "nbformat_minor": 5
}
